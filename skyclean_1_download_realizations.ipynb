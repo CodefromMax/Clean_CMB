{
 "cells": [
  {
   "cell_type": "markdown",
   "metadata": {},
   "source": [
    "# 1. Download simulation data from Planck archive\n",
    "\n",
    "\n",
    "## 1.1 CMB signal realizations\n",
    "Source: Planck Legacy Archive: https://pla.esac.esa.int/#maps > maps > Simulations tab\n",
    "\n",
    "From the Planck Archive website (under the Simulations tab), the Filtered Eclectic Beam Convolved Observed Patch (febecop) simulations contain CMB data for the following frequency bands:   [030, 044, 070, 100, 143, 217, 353] GHz\n",
    "\n",
    "For the frequency bands 545 GHz and 857 GHz, these simulations can be downloaded from a different URL (Provided)\n",
    "\n",
    "Official download instructions: https://wiki.cosmos.esa.int/planck-legacy-archive/index.php/Simulation_data#CMB_realizations"
   ]
  },
  {
   "cell_type": "code",
   "execution_count": 14,
   "metadata": {},
   "outputs": [],
   "source": [
    "# !pip install skyclean --upgrade\n",
    "import skyclean as sc\n",
    "# from skyclean import download_cmb_realizations"
   ]
  },
  {
   "cell_type": "markdown",
   "metadata": {},
   "source": [
    "### Reference: Skyclean download_cmb_realizations fucntion"
   ]
  },
  {
   "cell_type": "code",
   "execution_count": null,
   "metadata": {},
   "outputs": [],
   "source": [
    "import os\n",
    "import requests\n",
    "def download_cmb_realizations(directory, frequencies, realizations, url_template, filename_template, realization_digit):\n",
    "    \"\"\"\n",
    "    Downloads Cosmic Microwave Background (CMB) realizations for specified frequencies and realizations.\n",
    "\n",
    "    This function will download files from a specified URL template, format them according to the frequency and \n",
    "    realization number, and save them in the specified directory. If the file already exists, it will skip the download.\n",
    "\n",
    "    Parameters:\n",
    "    directory (str): The directory where files will be saved.\n",
    "    frequencies (list of str): A list of frequency identifiers to download.\n",
    "    realizations (range or list of int): A range or list of realization numbers to download.\n",
    "    url_template (str): The URL template that will be formatted with the frequency and realization.\n",
    "    filename_template (str): The template for the filename that will be used when saving the files.\n",
    "    realization_digit (int): The number of digits to use for formatting the realization number (e.g., 4 digits for \"0001\").\n",
    "\n",
    "    Returns:\n",
    "    None\n",
    "\n",
    "    Example:# \n",
    "    directory = 'CMB_realizations'\n",
    "    frequencies = [\"030\", \"044\", \"070\", \"100\", \"143\", \"217\", \"353\"]  # Example frequencies\n",
    "    realizations = range(30)  # Example: 30 realizations from 0 to 29\n",
    "    url_template = \"http://pla.esac.esa.int/pla/aio/product-action?SIMULATED_MAP.FILE_ID=febecop_ffp10_lensed_scl_cmb_{frequency}_mc_{realization}.fits\"\n",
    "    filename_template = \"febecop_ffp10_lensed_scl_cmb_{frequency}_mc_{realization}.fits\"\n",
    "    realization_digit = 4 \n",
    "    download_cmb_realizations(directory, frequencies, realizations, url_template, filename_template, realization_digit)\n",
    "    \n",
    "    # Note: 545 and 857 GHz have different urls\n",
    "    frequencies = [ \"545\", \"857\"]  # Example frequencies\n",
    "    filename_template = \"symbeam_ffp10_lensed_scl_cmb_{frequency}_mc_{realization}.fits\"\n",
    "    url_template = \"http://pla.esac.esa.int/pla/aio/product-action?SIMULATED_MAP.FILE_ID=symbeam_ffp10_lensed_scl_cmb_{frequency}_mc_{realization}.fits\"\n",
    "    download_cmb_realizations(directory, frequencies, realizations, url_template, filename_template, realization_digit)\n",
    "    \n",
    "    \"\"\"\n",
    "\n",
    "    # Ensure the directory exists\n",
    "    if not os.path.exists(directory):\n",
    "        os.makedirs(directory)\n",
    "\n",
    "    # Loop through each frequency and realization\n",
    "    for realization in realizations:\n",
    "        for frequency in frequencies: \n",
    "            realization_str = str(realization).zfill(realization_digit)\n",
    "            filename = filename_template.format(frequency=frequency, realization=realization_str)\n",
    "            file_path = os.path.join(directory, filename)\n",
    "\n",
    "            # Check if the file already exists\n",
    "            if os.path.exists(file_path):\n",
    "                print(f\"File {filename} already exists. Skipping download.\")\n",
    "                continue\n",
    "\n",
    "            # Format the URL with the current frequency and realization\n",
    "            url = url_template.format(frequency=frequency, realization=realization_str)\n",
    "\n",
    "            # Send a GET request to the URL\n",
    "            response = requests.get(url)\n",
    "\n",
    "            # Check if the request was successful\n",
    "            if response.status_code == 200:\n",
    "                # Open the file in binary write mode and write the content\n",
    "                with open(file_path, 'wb') as f:\n",
    "                    f.write(response.content)\n",
    "                print(f\"Downloaded {file_path}\")\n",
    "            else:\n",
    "                print(f\"Failed to download data for frequency {frequency} and realization {realization_str}. Status code: {response.status_code}\")\n"
   ]
  },
  {
   "cell_type": "code",
   "execution_count": 17,
   "metadata": {},
   "outputs": [
    {
     "name": "stdout",
     "output_type": "stream",
     "text": [
      "File febecop_ffp10_lensed_scl_cmb_030_mc_0000.fits already exists. Skipping download.\n",
      "File febecop_ffp10_lensed_scl_cmb_044_mc_0000.fits already exists. Skipping download.\n",
      "File febecop_ffp10_lensed_scl_cmb_070_mc_0000.fits already exists. Skipping download.\n",
      "File febecop_ffp10_lensed_scl_cmb_100_mc_0000.fits already exists. Skipping download.\n",
      "File febecop_ffp10_lensed_scl_cmb_143_mc_0000.fits already exists. Skipping download.\n",
      "File febecop_ffp10_lensed_scl_cmb_217_mc_0000.fits already exists. Skipping download.\n",
      "File febecop_ffp10_lensed_scl_cmb_353_mc_0000.fits already exists. Skipping download.\n",
      "File febecop_ffp10_lensed_scl_cmb_545_mc_0000.fits already exists. Skipping download.\n",
      "File febecop_ffp10_lensed_scl_cmb_857_mc_0000.fits already exists. Skipping download.\n"
     ]
    }
   ],
   "source": [
    "# Example usage: download_cmb_realizations\n",
    "# Febecop FFP10 lensed CMB realizations\n",
    "store_directory = 'CMB_realizations'\n",
    "frequencies = [\"030\", \"044\", \"070\", \"100\", \"143\", \"217\", \"353\"]  # Example frequencies\n",
    "\n",
    "realizations = range(1)  # Example: 10 realizations from 0 to 9\n",
    "url_template = \"http://pla.esac.esa.int/pla/aio/product-action?SIMULATED_MAP.FILE_ID=febecop_ffp10_lensed_scl_cmb_{frequency}_mc_{realization}.fits\"\n",
    "store_filename_template = \"febecop_ffp10_lensed_scl_cmb_{frequency}_mc_{realization}.fits\"\n",
    "realization_digit = 4 \n",
    "sc.download_cmb_realizations(store_directory, frequencies, realizations, url_template, store_filename_template, realization_digit)\n",
    "\n",
    "special_path_frequencies = [ \"545\", \"857\"]  # Example frequencies\n",
    "# for simplied processing (the downloaded fits files are name as febecop, symbeam is the original code)\n",
    "store_filename_template = \"febecop_ffp10_lensed_scl_cmb_{frequency}_mc_{realization}.fits\"\n",
    "url_template = \"http://pla.esac.esa.int/pla/aio/product-action?SIMULATED_MAP.FILE_ID=symbeam_ffp10_lensed_scl_cmb_{frequency}_mc_{realization}.fits\"\n",
    "sc.download_cmb_realizations(store_directory, special_path_frequencies, realizations, url_template, store_filename_template, realization_digit)\n"
   ]
  },
  {
   "cell_type": "markdown",
   "metadata": {},
   "source": [
    "## 1.2 Download synchrotron realizations\n",
    "\n",
    "Only 1 synchrotron realziation for each frequency. For downloading other type of foreground emissions please refer to\n",
    " https://wiki.cosmos.esa.int/planck-legacy-archive/index.php/Simulation_data#The_Planck_Sky_Model"
   ]
  },
  {
   "cell_type": "code",
   "execution_count": 19,
   "metadata": {},
   "outputs": [
    {
     "name": "stdout",
     "output_type": "stream",
     "text": [
      "File COM_SimMap_synchrotron-ffp10-skyinbands-030_2048_R3.00_full.fits already exists. Skipping download.\n",
      "File COM_SimMap_synchrotron-ffp10-skyinbands-044_2048_R3.00_full.fits already exists. Skipping download.\n",
      "File COM_SimMap_synchrotron-ffp10-skyinbands-070_2048_R3.00_full.fits already exists. Skipping download.\n",
      "File COM_SimMap_synchrotron-ffp10-skyinbands-100_2048_R3.00_full.fits already exists. Skipping download.\n",
      "File COM_SimMap_synchrotron-ffp10-skyinbands-143_2048_R3.00_full.fits already exists. Skipping download.\n",
      "File COM_SimMap_synchrotron-ffp10-skyinbands-217_2048_R3.00_full.fits already exists. Skipping download.\n",
      "File COM_SimMap_synchrotron-ffp10-skyinbands-353_2048_R3.00_full.fits already exists. Skipping download.\n",
      "File COM_SimMap_synchrotron-ffp10-skyinbands-545_2048_R3.00_full.fits already exists. Skipping download.\n",
      "File COM_SimMap_synchrotron-ffp10-skyinbands-857_2048_R3.00_full.fits already exists. Skipping download.\n"
     ]
    }
   ],
   "source": [
    "# synchrotron\n",
    "store_directory = 'CMB_realizations'\n",
    "frequencies = [\"030\", \"044\", \"070\", \"100\", \"143\", \"217\", \"353\", \"545\", \"857\"]  # Example frequencies\n",
    "realizations = range(1)  \n",
    "filename_template = \"COM_SimMap_synchrotron-ffp10-skyinbands-{frequency}_2048_R3.00_full.fits\"\n",
    "url_template = \"http://pla.esac.esa.int/pla/aio/product-action?SIMULATED_MAP.FILE_ID=COM_SimMap_synchrotron-ffp10-skyinbands-{frequency}_2048_R3.00_full.fits\"\n",
    "realization_digit = 4 \n",
    "sc.download_cmb_realizations(store_directory, frequencies, realizations, url_template, filename_template, realization_digit)\n"
   ]
  },
  {
   "cell_type": "markdown",
   "metadata": {},
   "source": [
    "## 1.3 Download noise realizations\n",
    "\n",
    "Noise realizations have 5 digits.\n",
    "\n",
    "Official instructions: https://wiki.cosmos.esa.int/planck-legacy-archive/index.php/Simulation_data#Noise_and_instrumental_effect_residual_maps"
   ]
  },
  {
   "cell_type": "code",
   "execution_count": 20,
   "metadata": {},
   "outputs": [
    {
     "name": "stdout",
     "output_type": "stream",
     "text": [
      "File ffp10_noise_030_full_map_mc_00000.fits already exists. Skipping download.\n",
      "File ffp10_noise_044_full_map_mc_00000.fits already exists. Skipping download.\n",
      "File ffp10_noise_070_full_map_mc_00000.fits already exists. Skipping download.\n",
      "File ffp10_noise_100_full_map_mc_00000.fits already exists. Skipping download.\n",
      "File ffp10_noise_143_full_map_mc_00000.fits already exists. Skipping download.\n",
      "File ffp10_noise_217_full_map_mc_00000.fits already exists. Skipping download.\n",
      "File ffp10_noise_353_full_map_mc_00000.fits already exists. Skipping download.\n",
      "File ffp10_noise_545_full_map_mc_00000.fits already exists. Skipping download.\n",
      "File ffp10_noise_857_full_map_mc_00000.fits already exists. Skipping download.\n"
     ]
    }
   ],
   "source": [
    "# Noise\n",
    "store_directory = 'CMB_realizations'\n",
    "frequencies = [\"030\", \"044\", \"070\", \"100\", \"143\", \"217\", \"353\", \"545\", \"857\"]  # Example frequencies\n",
    "realizations = range(1)\n",
    "realization_digit = 5\n",
    "filename_template = \"ffp10_noise_{frequency}_full_map_mc_{realization}.fits\"\n",
    "url_template = \"http://pla.esac.esa.int/pla/aio/product-action?SIMULATED_MAP.FILE_ID=ffp10_noise_{frequency}_full_map_mc_{realization}.fits\"\n",
    "\n",
    "sc.download_cmb_realizations(store_directory, frequencies, realizations, url_template, filename_template,realization_digit)"
   ]
  }
 ],
 "metadata": {
  "kernelspec": {
   "display_name": "Python 3",
   "language": "python",
   "name": "python3"
  },
  "language_info": {
   "codemirror_mode": {
    "name": "ipython",
    "version": 3
   },
   "file_extension": ".py",
   "mimetype": "text/x-python",
   "name": "python",
   "nbconvert_exporter": "python",
   "pygments_lexer": "ipython3",
   "version": "3.10.12"
  }
 },
 "nbformat": 4,
 "nbformat_minor": 2
}
